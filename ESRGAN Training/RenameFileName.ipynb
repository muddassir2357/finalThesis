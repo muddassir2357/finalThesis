{
 "cells": [
  {
   "cell_type": "code",
   "execution_count": 1,
   "id": "02a382d5",
   "metadata": {},
   "outputs": [],
   "source": [
    "import os"
   ]
  },
  {
   "cell_type": "code",
   "execution_count": 30,
   "id": "d1b05289",
   "metadata": {},
   "outputs": [
    {
     "name": "stdout",
     "output_type": "stream",
     "text": [
      "/mnt/disks/user/project/SRGAN2/BasicSR\n"
     ]
    }
   ],
   "source": [
    "# frames = os.listdir(\"./results/ESRGAN\")\n",
    "%cd \"../../\""
   ]
  },
  {
   "cell_type": "code",
   "execution_count": 33,
   "id": "dd03fa88",
   "metadata": {},
   "outputs": [],
   "source": [
    "for frame in frames:\n",
    "    nname = frame.split(\"frame\")[1].split(\"_\")[0].strip() +\".png\"\n",
    "    src = \"./results/ESRGAN/\"+frame\n",
    "    dst = \"./datasets/upload/output/\"+nname\n",
    "    os.rename(src,dst)"
   ]
  },
  {
   "cell_type": "code",
   "execution_count": null,
   "id": "022f9d47",
   "metadata": {},
   "outputs": [],
   "source": [
    "\n"
   ]
  },
  {
   "cell_type": "code",
   "execution_count": null,
   "id": "b9eb9da9",
   "metadata": {},
   "outputs": [],
   "source": []
  }
 ],
 "metadata": {
  "kernelspec": {
   "display_name": "Python 3",
   "language": "python",
   "name": "python3"
  },
  "language_info": {
   "codemirror_mode": {
    "name": "ipython",
    "version": 3
   },
   "file_extension": ".py",
   "mimetype": "text/x-python",
   "name": "python",
   "nbconvert_exporter": "python",
   "pygments_lexer": "ipython3",
   "version": "3.8.8"
  }
 },
 "nbformat": 4,
 "nbformat_minor": 5
}
